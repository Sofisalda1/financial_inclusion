{
 "cells": [
  {
   "cell_type": "code",
   "execution_count": 51,
   "metadata": {},
   "outputs": [],
   "source": [
    "import pandas as pd\n",
    "import numpy as np\n",
    "import seaborn as sns\n",
    "import matplotlib.pyplot as plt\n",
    "\n",
    "import warnings\n",
    "warnings.filterwarnings('ignore')\n",
    "\n",
    "from sklearn.preprocessing import LabelEncoder, MinMaxScaler\n",
    "from sklearn.model_selection import train_test_split\n",
    "from sklearn.metrics import accuracy_score, confusion_matrix, classification_report, f1_score\n",
    "\n",
    "from sklearn.tree import DecisionTreeClassifier\n",
    "from sklearn.neighbors import KNeighborsClassifier\n",
    "from sklearn.ensemble import RandomForestClassifier\n",
    "from sklearn.svm import SVC\n",
    "from sklearn.naive_bayes import MultinomialNB, CategoricalNB"
   ]
  },
  {
   "cell_type": "code",
   "execution_count": 52,
   "metadata": {},
   "outputs": [],
   "source": [
    "#Borrowed from Starter Notebook for challenge\n",
    "# # function to preprocess our data from train models\n",
    "def preprocessing_data(data):\n",
    "\n",
    "    # Convert the following numerical labels from interger to float\n",
    "    float_array = data[[\"household_size\", \"age_of_respondent\", \"year\"]].values.astype(float)\n",
    "    \n",
    "    # categorical features to be converted to One Hot Encoding\n",
    "    categ = [\"relationship_with_head\",\n",
    "             \"marital_status\",\n",
    "             \"education_level\",\n",
    "             \"job_type\",\n",
    "             \"country\"]\n",
    "    \n",
    "    # One Hot Encoding conversion\n",
    "    data = pd.get_dummies(data, prefix_sep=\"_\", columns=categ, drop_first=True)\n",
    "    \n",
    "    # Label Encoder conversion\n",
    "    data[\"location_type\"] = le.fit_transform(data[\"location_type\"])\n",
    "    data[\"cellphone_access\"] = le.fit_transform(data[\"cellphone_access\"])\n",
    "    data[\"gender_of_respondent\"] = le.fit_transform(data[\"gender_of_respondent\"])\n",
    "    \n",
    "    # drop uniquid column\n",
    "    data = data.drop([\"uniqueid\"], axis=1)\n",
    "    \n",
    "    return data     "
   ]
  },
  {
   "cell_type": "code",
   "execution_count": 53,
   "metadata": {},
   "outputs": [
    {
     "data": {
      "text/html": [
       "<div>\n",
       "<style scoped>\n",
       "    .dataframe tbody tr th:only-of-type {\n",
       "        vertical-align: middle;\n",
       "    }\n",
       "\n",
       "    .dataframe tbody tr th {\n",
       "        vertical-align: top;\n",
       "    }\n",
       "\n",
       "    .dataframe thead th {\n",
       "        text-align: right;\n",
       "    }\n",
       "</style>\n",
       "<table border=\"1\" class=\"dataframe\">\n",
       "  <thead>\n",
       "    <tr style=\"text-align: right;\">\n",
       "      <th></th>\n",
       "      <th>country</th>\n",
       "      <th>year</th>\n",
       "      <th>uniqueid</th>\n",
       "      <th>bank_account</th>\n",
       "      <th>location_type</th>\n",
       "      <th>cellphone_access</th>\n",
       "      <th>household_size</th>\n",
       "      <th>age_of_respondent</th>\n",
       "      <th>gender_of_respondent</th>\n",
       "      <th>relationship_with_head</th>\n",
       "      <th>marital_status</th>\n",
       "      <th>education_level</th>\n",
       "      <th>job_type</th>\n",
       "    </tr>\n",
       "  </thead>\n",
       "  <tbody>\n",
       "    <tr>\n",
       "      <th>0</th>\n",
       "      <td>Kenya</td>\n",
       "      <td>2018</td>\n",
       "      <td>uniqueid_1</td>\n",
       "      <td>Yes</td>\n",
       "      <td>Rural</td>\n",
       "      <td>Yes</td>\n",
       "      <td>3</td>\n",
       "      <td>24</td>\n",
       "      <td>Female</td>\n",
       "      <td>Spouse</td>\n",
       "      <td>Married/Living together</td>\n",
       "      <td>Secondary education</td>\n",
       "      <td>Self employed</td>\n",
       "    </tr>\n",
       "    <tr>\n",
       "      <th>1</th>\n",
       "      <td>Kenya</td>\n",
       "      <td>2018</td>\n",
       "      <td>uniqueid_2</td>\n",
       "      <td>No</td>\n",
       "      <td>Rural</td>\n",
       "      <td>No</td>\n",
       "      <td>5</td>\n",
       "      <td>70</td>\n",
       "      <td>Female</td>\n",
       "      <td>Head of Household</td>\n",
       "      <td>Widowed</td>\n",
       "      <td>No formal education</td>\n",
       "      <td>Government Dependent</td>\n",
       "    </tr>\n",
       "    <tr>\n",
       "      <th>2</th>\n",
       "      <td>Kenya</td>\n",
       "      <td>2018</td>\n",
       "      <td>uniqueid_3</td>\n",
       "      <td>Yes</td>\n",
       "      <td>Urban</td>\n",
       "      <td>Yes</td>\n",
       "      <td>5</td>\n",
       "      <td>26</td>\n",
       "      <td>Male</td>\n",
       "      <td>Other relative</td>\n",
       "      <td>Single/Never Married</td>\n",
       "      <td>Vocational/Specialised training</td>\n",
       "      <td>Self employed</td>\n",
       "    </tr>\n",
       "    <tr>\n",
       "      <th>3</th>\n",
       "      <td>Kenya</td>\n",
       "      <td>2018</td>\n",
       "      <td>uniqueid_4</td>\n",
       "      <td>No</td>\n",
       "      <td>Rural</td>\n",
       "      <td>Yes</td>\n",
       "      <td>5</td>\n",
       "      <td>34</td>\n",
       "      <td>Female</td>\n",
       "      <td>Head of Household</td>\n",
       "      <td>Married/Living together</td>\n",
       "      <td>Primary education</td>\n",
       "      <td>Formally employed Private</td>\n",
       "    </tr>\n",
       "    <tr>\n",
       "      <th>4</th>\n",
       "      <td>Kenya</td>\n",
       "      <td>2018</td>\n",
       "      <td>uniqueid_5</td>\n",
       "      <td>No</td>\n",
       "      <td>Urban</td>\n",
       "      <td>No</td>\n",
       "      <td>8</td>\n",
       "      <td>26</td>\n",
       "      <td>Male</td>\n",
       "      <td>Child</td>\n",
       "      <td>Single/Never Married</td>\n",
       "      <td>Primary education</td>\n",
       "      <td>Informally employed</td>\n",
       "    </tr>\n",
       "  </tbody>\n",
       "</table>\n",
       "</div>"
      ],
      "text/plain": [
       "  country  year    uniqueid bank_account location_type cellphone_access  \\\n",
       "0   Kenya  2018  uniqueid_1          Yes         Rural              Yes   \n",
       "1   Kenya  2018  uniqueid_2           No         Rural               No   \n",
       "2   Kenya  2018  uniqueid_3          Yes         Urban              Yes   \n",
       "3   Kenya  2018  uniqueid_4           No         Rural              Yes   \n",
       "4   Kenya  2018  uniqueid_5           No         Urban               No   \n",
       "\n",
       "   household_size  age_of_respondent gender_of_respondent  \\\n",
       "0               3                 24               Female   \n",
       "1               5                 70               Female   \n",
       "2               5                 26                 Male   \n",
       "3               5                 34               Female   \n",
       "4               8                 26                 Male   \n",
       "\n",
       "  relationship_with_head           marital_status  \\\n",
       "0                 Spouse  Married/Living together   \n",
       "1      Head of Household                  Widowed   \n",
       "2         Other relative     Single/Never Married   \n",
       "3      Head of Household  Married/Living together   \n",
       "4                  Child     Single/Never Married   \n",
       "\n",
       "                   education_level                   job_type  \n",
       "0              Secondary education              Self employed  \n",
       "1              No formal education       Government Dependent  \n",
       "2  Vocational/Specialised training              Self employed  \n",
       "3                Primary education  Formally employed Private  \n",
       "4                Primary education        Informally employed  "
      ]
     },
     "execution_count": 53,
     "metadata": {},
     "output_type": "execute_result"
    }
   ],
   "source": [
    "raw_data = pd.read_csv(\"/Users/sofiasaldarriagajimenez/Documents/NeueFischeBC/financial_inclusion/data/financial-inclusion-in-africa/Train.csv\")\n",
    "raw_data.head()"
   ]
  },
  {
   "cell_type": "code",
   "execution_count": 54,
   "metadata": {},
   "outputs": [
    {
     "data": {
      "text/plain": [
       "<seaborn.axisgrid.FacetGrid at 0x107c28520>"
      ]
     },
     "execution_count": 54,
     "metadata": {},
     "output_type": "execute_result"
    },
    {
     "data": {
      "image/png": "[encoded data removed]",
      "text/plain": [
       "<Figure size 360x360 with 1 Axes>"
      ]
     },
     "metadata": {
      "needs_background": "light"
     },
     "output_type": "display_data"
    }
   ],
   "source": [
    "sns.catplot(x=\"bank_account\", kind=\"count\", data= raw_data)"
   ]
  },
  {
   "cell_type": "code",
   "execution_count": 48,
   "metadata": {},
   "outputs": [],
   "source": [
    "# Convert target label to numerical Data\n",
    "le = LabelEncoder()\n",
    "raw_data['bank_account'] = le.fit_transform(raw_data['bank_account'])\n",
    "\n",
    "#Separate training features from target\n",
    "X = raw_data.drop(['bank_account'], axis=1)\n",
    "y = raw_data['bank_account']\n",
    "\n",
    "processedX = preprocessing_data(X)\n"
   ]
  },
  {
   "cell_type": "code",
   "execution_count": 41,
   "metadata": {},
   "outputs": [],
   "source": [
    "\n",
    "X_train, X_test, y_train, y_test = train_test_split(processedX, y, test_size=0.30, stratify = y, random_state=61)\n"
   ]
  },
  {
   "cell_type": "code",
   "execution_count": 57,
   "metadata": {},
   "outputs": [],
   "source": [
    "# scale our data into range of 0 and 1\n",
    "scaler = MinMaxScaler(feature_range=(0, 1))\n",
    "X_train = scaler.fit_transform(X_train)\n",
    "X_test = scaler.fit_transform(X_test)\n"
   ]
  },
  {
   "cell_type": "code",
   "execution_count": 35,
   "metadata": {},
   "outputs": [
    {
     "name": "stdout",
     "output_type": "stream",
     "text": [
      "37.732506643046946 70.11901388495325\n",
      "train scores 38.04484756865709 70.13239402404956\n"
     ]
    }
   ],
   "source": [
    "#Decision tree clasifier\n",
    "\n",
    "# Creating the classifier object \n",
    "clf_DT = DecisionTreeClassifier(criterion = \"entropy\", max_depth=3, min_samples_leaf=5, class_weight = \"balanced\") \n",
    "# Performing training \n",
    "clf_DT.fit(X_train, y_train) \n",
    "\n",
    "y_predDT = clf_DT.predict(X_test) \n",
    "\n",
    "#cmDT = confusion_matrix(y_test, y_predDT)\n",
    "accDT = accuracy_score(y_test,y_predDT)*100\n",
    "#crDT = classification_report(y_test, y_predDT)\n",
    "f1DT = f1_score(y_test, y_predDT)*100\n",
    "\n",
    "print(f1DT, accDT)\n",
    "\n",
    "y_pred_train = clf_DT.predict(X_train) \n",
    "acc_ = accuracy_score(y_train,y_pred_train)*100\n",
    "f1_ = f1_score(y_train,y_pred_train)*100\n",
    "\n",
    "print(\"train scores\",f1_, acc_)\n",
    "\n"
   ]
  },
  {
   "cell_type": "code",
   "execution_count": 36,
   "metadata": {},
   "outputs": [
    {
     "name": "stdout",
     "output_type": "stream",
     "text": [
      "42.82744282744282 88.31113629923492\n"
     ]
    }
   ],
   "source": [
    "#KNN clasifier\n",
    "clf_knn = KNeighborsClassifier(n_neighbors=10, weights='uniform', metric='minkowski') \n",
    "clf_knn.fit(X_train, y_train) \n",
    "\n",
    "\n",
    "y_predKNN = clf_knn.predict(X_test) \n",
    "\n",
    "#cm = confusion_matrix(y_test, y_pred)\n",
    "accKNN = accuracy_score(y_test,y_predKNN)*100\n",
    "#crKNN = classification_report(y_test, y_predKNN)\n",
    "f1KNN = f1_score(y_test, y_predKNN)*100\n",
    "\n",
    "print(f1KNN, accKNN)"
   ]
  },
  {
   "cell_type": "code",
   "execution_count": 37,
   "metadata": {},
   "outputs": [
    {
     "name": "stdout",
     "output_type": "stream",
     "text": [
      "46.11016467915957 86.55426466421082\n"
     ]
    }
   ],
   "source": [
    "#Random Forest Classifier\n",
    "# Creating the classifier object \n",
    "clf_RF = RandomForestClassifier(n_estimators=1000)\n",
    "# Performing training \n",
    "clf_RF.fit(X_train, y_train) \n",
    "\n",
    "y_predRF = clf_RF.predict(X_test) \n",
    "\n",
    "#cm = confusion_matrix(y_test, y_pred)\n",
    "accRF = accuracy_score(y_test,y_predRF)*100\n",
    "#crRF = classification_report(y_test, y_predRF)\n",
    "f1RF = f1_score(y_test, y_predRF)*100\n",
    "\n",
    "print(f1RF, accRF)\n"
   ]
  },
  {
   "cell_type": "code",
   "execution_count": 61,
   "metadata": {},
   "outputs": [
    {
     "name": "stdout",
     "output_type": "stream",
     "text": [
      "confusion matrix:\n",
      " [[5925  139]\n",
      " [ 685  309]]\n",
      "accuracy score: 88.33\n",
      "classification report:\n",
      "               precision    recall  f1-score   support\n",
      "\n",
      "           0       0.90      0.98      0.93      6064\n",
      "           1       0.69      0.31      0.43       994\n",
      "\n",
      "    accuracy                           0.88      7058\n",
      "   macro avg       0.79      0.64      0.68      7058\n",
      "weighted avg       0.87      0.88      0.86      7058\n",
      "\n",
      "f1 score: 42.86\n"
     ]
    }
   ],
   "source": [
    "\n",
    "model_mnb = MultinomialNB(alpha=1, fit_prior=True, class_prior=None)\n",
    "\n",
    "model_mnb.fit(X_train, y_train)\n",
    "\n",
    "y_train_pred_mnb = model_mnb.predict(X_train)\n",
    "\n",
    "y_test_pred_mnb = model_mnb.predict(X_test)\n",
    "\n",
    "confmatMNB = confusion_matrix(y_test, y_test_pred_mnb)\n",
    "accMNB = accuracy_score(y_test,y_test_pred_mnb)*100\n",
    "classrepMNB = classification_report(y_test, y_test_pred_mnb)\n",
    "f1MNB = f1_score(y_test, y_test_pred_mnb)*100\n",
    "\n",
    "print(f'confusion matrix:\\n {confmatMNB}')\n",
    "print(f'accuracy score: {accMNB:.2f}')\n",
    "print(f'classification report:\\n {classrepMNB}')\n",
    "print(f'f1 score: {f1MNB:.2f}')\n"
   ]
  },
  {
   "cell_type": "code",
   "execution_count": 58,
   "metadata": {},
   "outputs": [
    {
     "name": "stdout",
     "output_type": "stream",
     "text": [
      "confusion matrix:\n",
      " [[5701  363]\n",
      " [ 540  454]]\n",
      "accuracy score: 87.21\n",
      "f1 score: 50.14\n"
     ]
    }
   ],
   "source": [
    "model_catnb = CategoricalNB()\n",
    "\n",
    "model_catnb.fit(X_train, y_train)\n",
    "\n",
    "#y_train_pred_catnb = model_catnb.predict(X_train)\n",
    "\n",
    "y_test_pred_catnb = model_catnb.predict(X_test)\n",
    "\n",
    "confmat_catnb = confusion_matrix(y_test, y_test_pred_catnb)\n",
    "acc_catnb = accuracy_score(y_test,y_test_pred_catnb)*100\n",
    "#classrep_catnb = classification_report(y_test, y_test_pred_catnb)\n",
    "f1_catnb = f1_score(y_test, y_test_pred_catnb)*100\n",
    "\n",
    "print(f'confusion matrix:\\n {confmat_catnb}')\n",
    "print(f'accuracy score: {acc_catnb:.2f}')\n",
    "#print(f'classification report:\\n {classrep_catnb}')\n",
    "print(f'f1 score: {f1_catnb:.2f}')\n",
    "\n",
    "#print(\"Number of mislabeled points out of a total %d points for test : %d\" % (X_test.shape[0], (y_test != y_test_pred_catnb).sum()))\n",
    "#print(\"Number of mislabeled points out of a total %d points for training: %d\" % (X_train.shape[0], (y_train != y_train_pred_catnb).sum()))"
   ]
  },
  {
   "cell_type": "code",
   "execution_count": 59,
   "metadata": {},
   "outputs": [
    {
     "name": "stdout",
     "output_type": "stream",
     "text": [
      "confusion matrix:\n",
      " [[5620  444]\n",
      " [ 923   71]]\n",
      "accuracy score: 88.68\n",
      "f1 score: 44.32\n"
     ]
    }
   ],
   "source": [
    "model_svc = SVC(C=1.0, kernel='rbf', degree=3, gamma='scale', coef0=0.0, shrinking=True, probability=False,\n",
    "                tol=0.001, cache_size=200, class_weight=None, verbose=False, max_iter=- 1, decision_function_shape='ovr',\n",
    "                break_ties=False, random_state=None)\n",
    "\n",
    "model_svc.fit(X_train, y_train)\n",
    "\n",
    "#y_train_pred_svc = model_svc.predict(X_train)\n",
    "\n",
    "y_test_pred_svc = model_svc.predict(X_test)\n",
    "confmat_svc = confusion_matrix(y_test, y_test_pred_mnb)\n",
    "acc_svc = accuracy_score(y_test,y_test_pred_svc)*100\n",
    "#classrep_svc = classification_report(y_test, y_test_pred_mnb)\n",
    "f1_svc = f1_score(y_test, y_test_pred_svc)*100\n",
    "\n",
    "print(f'confusion matrix:\\n {confmat_svc}')\n",
    "print(f'accuracy score: {acc_svc:.2f}')\n",
    "#print(f'classification report:\\n {classrep_svc}')\n",
    "print(f'f1 score: {f1_svc:.2f}')\n"
   ]
  }
 ],
 "metadata": {
  "interpreter": {
   "hash": "4bb53dc98ad2da9c8ce84aba1d5e26c15ceffc986f5333b34178ddc64b4f3563"
  },
  "kernelspec": {
   "display_name": "Python 3.9.4 ('.venv': venv)",
   "language": "python",
   "name": "python3"
  },
  "language_info": {
   "codemirror_mode": {
    "name": "ipython",
    "version": 3
   },
   "file_extension": ".py",
   "mimetype": "text/x-python",
   "name": "python",
   "nbconvert_exporter": "python",
   "pygments_lexer": "ipython3",
   "version": "3.9.4"
  },
  "orig_nbformat": 4
 },
 "nbformat": 4,
 "nbformat_minor": 2
}
